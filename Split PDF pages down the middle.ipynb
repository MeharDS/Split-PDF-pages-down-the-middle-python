{
 "cells": [
  {
   "cell_type": "code",
   "execution_count": 34,
   "id": "3a396291",
   "metadata": {},
   "outputs": [],
   "source": [
    "#pip install PyPDF2\n",
    "'''\n",
    "Split (Cut) each page in half, e.g. if a source were\n",
    "created in booklet form, you could extract individual\n",
    "pages, and re-combines it\n",
    "'''\n",
    "from PyPDF2 import PdfWriter,PdfReader,PdfFileMerger\n",
    "#split left\n",
    "with open(\"meharDS.pdf\", \"rb\") as in_f:\n",
    "    input1 = PdfReader(in_f)\n",
    "    output = PdfWriter()\n",
    "\n",
    "    numPages = len(input1.pages)\n",
    "\n",
    "    for i in range(numPages):\n",
    "        #page = input1.getPage(i)\n",
    "        page = input1.pages[i]\n",
    "        page.cropbox.lower_left = (15, 30)\n",
    "        page.cropbox.upper_right = (410, 750)\n",
    "        output.add_page(page)\n",
    "\n",
    "    #with open(\"left.pdf\", \"wb\") as out_f:\n",
    "        #output.write(out_f)\n",
    "        \n",
    "#split right\n",
    "with open(\"test.pdf\", \"rb\") as in_f:\n",
    "    input1 = PdfReader(in_f)\n",
    "    output = PdfWriter()\n",
    "\n",
    "    numPages = len(input1.pages)\n",
    "    \n",
    "\n",
    "    for i in range(numPages):\n",
    "        page = input1.pages[i]\n",
    "        page.cropbox.lower_left = (410, 5)\n",
    "        page.cropbox.upper_right = (900, 750)\n",
    "        output.add_page(page)\n",
    "\n",
    "    #with open(\"right.pdf\", \"wb\") as out_f:\n",
    "        #output.write(out_f)\n",
    "\n",
    "#combine splitted files\n",
    "input1 = PdfReader(open(\"left.pdf\",\"rb\"))\n",
    "input2 = PdfReader(open(\"right.pdf\",\"rb\"))\n",
    "output = PdfWriter()\n",
    "numPages = len(input1.pages)\n",
    "\n",
    "for i in range(numPages):\n",
    "    l = input1.pages[i]\n",
    "    output.add_page(l)\n",
    "    r = input2.pages[i]\n",
    "    output.add_page(r)\n",
    "\n",
    "with open(\"meharDS(output).pdf\", \"wb\") as out_f:\n",
    "    output.write(out_f)"
   ]
  },
  {
   "cell_type": "code",
   "execution_count": 22,
   "id": "a04959e3",
   "metadata": {},
   "outputs": [],
   "source": []
  },
  {
   "cell_type": "code",
   "execution_count": 30,
   "id": "f96928d0",
   "metadata": {},
   "outputs": [],
   "source": []
  },
  {
   "cell_type": "code",
   "execution_count": null,
   "id": "c5f7db22",
   "metadata": {},
   "outputs": [],
   "source": []
  }
 ],
 "metadata": {
  "kernelspec": {
   "display_name": "Python 3 (ipykernel)",
   "language": "python",
   "name": "python3"
  },
  "language_info": {
   "codemirror_mode": {
    "name": "ipython",
    "version": 3
   },
   "file_extension": ".py",
   "mimetype": "text/x-python",
   "name": "python",
   "nbconvert_exporter": "python",
   "pygments_lexer": "ipython3",
   "version": "3.11.4"
  }
 },
 "nbformat": 4,
 "nbformat_minor": 5
}
